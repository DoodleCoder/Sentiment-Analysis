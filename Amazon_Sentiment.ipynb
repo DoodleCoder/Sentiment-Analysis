{
 "cells": [
  {
   "cell_type": "code",
   "execution_count": 1,
   "metadata": {},
   "outputs": [
    {
     "name": "stderr",
     "output_type": "stream",
     "text": [
      "/home/gaurav/Envs/SA/lib/python3.5/importlib/_bootstrap.py:222: RuntimeWarning: numpy.dtype size changed, may indicate binary incompatibility. Expected 96, got 88\n",
      "  return f(*args, **kwds)\n",
      "/home/gaurav/Envs/SA/lib/python3.5/importlib/_bootstrap.py:222: RuntimeWarning: numpy.dtype size changed, may indicate binary incompatibility. Expected 96, got 88\n",
      "  return f(*args, **kwds)\n",
      "/home/gaurav/Envs/SA/lib/python3.5/importlib/_bootstrap.py:222: RuntimeWarning: numpy.dtype size changed, may indicate binary incompatibility. Expected 96, got 88\n",
      "  return f(*args, **kwds)\n",
      "/home/gaurav/Envs/SA/lib/python3.5/importlib/_bootstrap.py:222: RuntimeWarning: numpy.dtype size changed, may indicate binary incompatibility. Expected 96, got 88\n",
      "  return f(*args, **kwds)\n",
      "/home/gaurav/Envs/SA/lib/python3.5/importlib/_bootstrap.py:222: RuntimeWarning: numpy.dtype size changed, may indicate binary incompatibility. Expected 96, got 88\n",
      "  return f(*args, **kwds)\n"
     ]
    }
   ],
   "source": [
    "import pandas as pd\n",
    "import nltk\n",
    "import string\n",
    "from nltk.tokenize import word_tokenize,sent_tokenize,PunktSentenceTokenizer, RegexpTokenizer\n",
    "from nltk.corpus import stopwords,state_union\n",
    "from nltk.stem import PorterStemmer,WordNetLemmatizer\n",
    "import pickle\n",
    "import time\n",
    "from pprint import pprint\n",
    "import inflect\n",
    "import warnings\n",
    "warnings.filterwarnings(\"ignore\", message=\"numpy.dtype size changed\")\n",
    "warnings.filterwarnings(\"ignore\", message=\"numpy.ufunc size changed\")\n",
    "\n",
    "\n",
    "data = pd.read_csv(\"Amazon_Unlocked_Mobile.csv\")\n",
    "reviews = data['Reviews']\n",
    "\n",
    "try:\n",
    "    with open('master.pkl', 'rb') as f:\n",
    "        master_list = pickle.load(f)\n",
    "except:\n",
    "    stop_words = set(stopwords.words(\"english\"))\n",
    "    master_list = []\n",
    "    print(reviews[:2])\n",
    "\n",
    "    ### Removing StopWords\n",
    "    t1 = time.time()\n",
    "    for ex in reviews:\n",
    "        try:\n",
    "            words = word_tokenize(ex)\n",
    "        except Exception as e:\n",
    "            pass\n",
    "        filtered_sent = [w.lower() for w in words if not w in stop_words]\n",
    "        master_list.append(filtered_sent)\n",
    "    t2 = time.time()\n",
    "    print(\"Time to remove stopwrods\",t2-t1)\n",
    "    print(master_list[:2])\n",
    "\n",
    "    ###Removing Numbers\n",
    "    num = inflect.engine() \n",
    "    t1 = time.time()\n",
    "    for ex in master_list:\n",
    "        for i in range(len(ex)):\n",
    "            result = ''.join([j for j in ex[i] if not j.isdigit()])\n",
    "            ex[i] = result\n",
    "    t2 = time.time()\n",
    "    print(\"Time to Remove Numbers\",t2-t1)\n",
    "    print(master_list[:2])\n",
    "\n",
    "\n",
    "\n",
    "    ###Removing Punctuations\n",
    "    p = RegexpTokenizer(r'\\w+')\n",
    "    t1 = time.time()\n",
    "    temp = []\n",
    "    for ex in master_list:\n",
    "        try:\n",
    "            st = ' '.join(ex)\n",
    "            temp.append((\"\".join(j for j in st if j not in string.punctuation).split()))\n",
    "        except Exception as e:\n",
    "            pass\n",
    "\n",
    "    t2 = time.time()\n",
    "    master_list = [i for i in temp]\n",
    "    print(\"Time to remove punctuations \",t2-t1)\n",
    "    print(master_list[:2])\n",
    "\n",
    "\n",
    "    # ### Stemming\n",
    "    # ps = PorterStemmer()\n",
    "    # t1 = time.time()\n",
    "    # for ex in master_list:\n",
    "    # \tfor i in range(len(ex)):\n",
    "    # \t\ttry:\n",
    "    # \t\t\tex[i] = ps.stem(ex[i])\n",
    "    # \t\texcept Exception as e:\n",
    "    # \t\t\tpass\n",
    "    # t2 = time.time()\n",
    "    # print(\"Time to Stem\",t2-t1)\n",
    "    # print(master_list[:2])\n",
    "\n",
    "\n",
    "    # ## Lemmatizing\n",
    "    # lemmatizer = WordNetLemmatizer()\n",
    "    # t1 = time.time()\n",
    "    # for ex in master_list:\n",
    "    # \tfor i in range(len(ex)):\n",
    "    # \t\ttry:\n",
    "    # \t\t\tex[i] = lemmatizer.lemmatize(ex[i])\n",
    "    # \t\texcept Exception as e:\n",
    "    # \t\t\tpass\n",
    "    # \t\t\tprint(i)\n",
    "    # t2 = time.time()\n",
    "    # print(\"Time to lemmatize\",t2-t1)\n",
    "    # print(master_list[:2])\n",
    "\n",
    "    import contractions\n",
    "\n",
    "    ###Contraction\n",
    "    t1 = time.time()\n",
    "    for ex in master_list:\n",
    "        for i in range(len(ex)):\n",
    "            try:\n",
    "                ex[i] = contractions.fix(ex[i])\n",
    "            except Exception as e:\n",
    "                pass\n",
    "                print(i)\n",
    "    t2 = time.time()\n",
    "    print(\"Time to do Contraction \",t2-t1)\n",
    "    print(master_list[:2])\n",
    "\n",
    "    with open('master.pkl','wb') as f:\n",
    "        pickle.dump(master_list, f)"
   ]
  },
  {
   "cell_type": "code",
   "execution_count": 2,
   "metadata": {},
   "outputs": [],
   "source": [
    "data['Sentiment'] = 0\n",
    "import sys\n",
    "r = data['Rating']\n",
    "s = []\n",
    "for i in range(len(r)):\n",
    "    if r[i] > 3:\n",
    "        s.append(1)\n",
    "    elif r[i] == 3:\n",
    "        s.append(0)\n",
    "    else:\n",
    "        s.append(-1)\n",
    "data['Sentiment'] = s"
   ]
  },
  {
   "cell_type": "code",
   "execution_count": 3,
   "metadata": {},
   "outputs": [],
   "source": [
    "train = master_list[:331072]\n",
    "test = master_list[331072:]\n",
    "y_train = s[:331072]\n",
    "y_test = s[331072:]\n"
   ]
  },
  {
   "cell_type": "code",
   "execution_count": 11,
   "metadata": {},
   "outputs": [],
   "source": [
    "from gensim.models import Word2Vec\n",
    "\n",
    "model.wv.save_word2vec_format('modelComplete.bin')\n",
    "try:\n",
    "    with open('model.pkl','rb') as f:\n",
    "        model = pickle.load(f)\n",
    "except:\n",
    "    model = Word2Vec(master_list, size=100, window=10,min_count=2, workers=10)\n",
    "    model.train(master_list, total_examples=len(master_list), epochs=10)\n",
    "    with open('model.pkl','wb') as f:\n",
    "        pickle.dump(model, f)"
   ]
  },
  {
   "cell_type": "code",
   "execution_count": 12,
   "metadata": {},
   "outputs": [],
   "source": [
    "# from sklearn.decomposition import PCA\n",
    "# from matplotlib import pyplot as plt"
   ]
  },
  {
   "cell_type": "code",
   "execution_count": 13,
   "metadata": {},
   "outputs": [],
   "source": [
    "# X = model[model.wv.vocab]\n",
    "# pca = PCA(n_components=2)\n",
    "# result = pca.fit_transform(X)"
   ]
  },
  {
   "cell_type": "code",
   "execution_count": 14,
   "metadata": {},
   "outputs": [],
   "source": [
    "# %matplotlib inline\n",
    "# plt.scatter(result[:, 0], result[:, 1])\n",
    "# for i,word in enumerate(words):\n",
    "#     plt.annotate(word, xy=(result[i, 0], result[i, 1]))\n",
    "# plt.show()"
   ]
  },
  {
   "cell_type": "code",
   "execution_count": 15,
   "metadata": {},
   "outputs": [
    {
     "name": "stderr",
     "output_type": "stream",
     "text": [
      "/home/gaurav/Envs/SA/lib/python3.5/site-packages/gensim/matutils.py:737: FutureWarning: Conversion of the second argument of issubdtype from `int` to `np.signedinteger` is deprecated. In future, it will be treated as `np.int64 == np.dtype(int).type`.\n",
      "  if np.issubdtype(vec.dtype, np.int):\n"
     ]
    },
    {
     "data": {
      "text/plain": [
       "[('great', 0.7472882270812988),\n",
       " ('nice', 0.721825361251831),\n",
       " ('decent', 0.7105386853218079),\n",
       " ('excellent', 0.6371794939041138),\n",
       " ('ok', 0.6356492042541504),\n",
       " ('impressive', 0.593664824962616),\n",
       " ('bad', 0.5715458989143372),\n",
       " ('superb', 0.5674518346786499),\n",
       " ('awesome', 0.5635976195335388),\n",
       " ('goodthe', 0.5602595806121826)]"
      ]
     },
     "execution_count": 15,
     "metadata": {},
     "output_type": "execute_result"
    }
   ],
   "source": [
    "w1 = 'good'\n",
    "model.wv.most_similar(positive=w1)"
   ]
  },
  {
   "cell_type": "code",
   "execution_count": 16,
   "metadata": {},
   "outputs": [],
   "source": [
    "import numpy as np\n",
    "import sys\n",
    "words_in_consideration = set(model.wv.index2word)\n",
    "def vecReview(sentence):\n",
    "    vec = np.zeros(100 ,dtype='float64')\n",
    "    for w in sentence:\n",
    "        if w in words_in_consideration:\n",
    "            vec += model[w]\n",
    "    return vec"
   ]
  },
  {
   "cell_type": "code",
   "execution_count": 17,
   "metadata": {},
   "outputs": [
    {
     "name": "stderr",
     "output_type": "stream",
     "text": [
      "/home/gaurav/Envs/SA/lib/python3.5/site-packages/ipykernel_launcher.py:8: DeprecationWarning: Call to deprecated `__getitem__` (Method will be removed in 4.0.0, use self.wv.__getitem__() instead).\n",
      "  \n"
     ]
    }
   ],
   "source": [
    "train_vec = []\n",
    "for r in train:\n",
    "    train_vec.append(vecReview(r))"
   ]
  },
  {
   "cell_type": "code",
   "execution_count": 18,
   "metadata": {},
   "outputs": [
    {
     "name": "stderr",
     "output_type": "stream",
     "text": [
      "/home/gaurav/Envs/SA/lib/python3.5/site-packages/ipykernel_launcher.py:8: DeprecationWarning: Call to deprecated `__getitem__` (Method will be removed in 4.0.0, use self.wv.__getitem__() instead).\n",
      "  \n"
     ]
    }
   ],
   "source": [
    "test_vec = []\n",
    "for r in test:\n",
    "    test_vec.append(vecReview(r))"
   ]
  },
  {
   "cell_type": "code",
   "execution_count": 19,
   "metadata": {},
   "outputs": [
    {
     "name": "stderr",
     "output_type": "stream",
     "text": [
      "Using TensorFlow backend.\n"
     ]
    }
   ],
   "source": [
    "from keras.models import Sequential\n",
    "from keras.layers import Dense\n"
   ]
  },
  {
   "cell_type": "code",
   "execution_count": 20,
   "metadata": {},
   "outputs": [
    {
     "name": "stderr",
     "output_type": "stream",
     "text": [
      "/home/gaurav/Envs/SA/lib/python3.5/site-packages/sklearn/ensemble/weight_boosting.py:29: DeprecationWarning: numpy.core.umath_tests is an internal NumPy module and should not be imported. It will be removed in a future NumPy release.\n",
      "  from numpy.core.umath_tests import inner1d\n"
     ]
    },
    {
     "name": "stdout",
     "output_type": "stream",
     "text": [
      "Accuracy From RandomForest:  83.215735549971\n"
     ]
    }
   ],
   "source": [
    "from sklearn.ensemble import RandomForestClassifier\n",
    "from sklearn.metrics import accuracy_score\n",
    "from numpy.core.umath_tests import inner1d\n",
    "try:\n",
    "    with open('rfmodel.pkl','rb') as f:\n",
    "        rfmodel = pickle.load(f)\n",
    "except:\n",
    "    rfmodel = RandomForestClassifier()\n",
    "    rfmodel.fit(train_vec, y_train)\n",
    "    with open('rfmodel.pkl','wb') as f:\n",
    "        pickle.dump(rfmodel, f)\n",
    "y_model = rfmodel.predict(test_vec)\n",
    "print('Accuracy From RandomForest: ', 100 *accuracy_score(y_model,y_test))"
   ]
  },
  {
   "cell_type": "code",
   "execution_count": 21,
   "metadata": {},
   "outputs": [
    {
     "name": "stdout",
     "output_type": "stream",
     "text": [
      "[ 1  1 -1  1  1  1  1  1  1  1  1  1 -1  1  1  1  1 -1 -1  1  1  1  1  1\n",
      " -1]\n",
      "[1, 1, -1, 1, 1, 1, 1, 1, 1, 1, -1, 1, 1, 1, 1, 1, 1, -1, -1, 1, 1, 1, 1, 1, 1]\n"
     ]
    }
   ],
   "source": [
    "print(y_model[:25])\n",
    "print(y_test[:25])"
   ]
  },
  {
   "cell_type": "code",
   "execution_count": null,
   "metadata": {},
   "outputs": [],
   "source": [
    "from sklearn import svm\n",
    "try:\n",
    "    with open('svmmodel.pkl','rb') as f:\n",
    "        SVMmodel = pickle.load(f)\n",
    "except:\n",
    "    SVMmodel = svm.SVC()\n",
    "    SVMmodel.fit(train_vec, y_train)\n",
    "    with open('svmmodel.pkl','wb') as f:\n",
    "        pickle.dump(svmmodel, f)\n",
    "y_model = SVMmodel.predict(test_vec)\n",
    "print('Accuracy From SVM: ',100*accuracy_score(y_model,y_test))"
   ]
  },
  {
   "cell_type": "code",
   "execution_count": null,
   "metadata": {},
   "outputs": [],
   "source": []
  }
 ],
 "metadata": {
  "kernelspec": {
   "display_name": "Python 3",
   "language": "python",
   "name": "python3"
  },
  "language_info": {
   "codemirror_mode": {
    "name": "ipython",
    "version": 3
   },
   "file_extension": ".py",
   "mimetype": "text/x-python",
   "name": "python",
   "nbconvert_exporter": "python",
   "pygments_lexer": "ipython3",
   "version": "3.5.2"
  }
 },
 "nbformat": 4,
 "nbformat_minor": 2
}
